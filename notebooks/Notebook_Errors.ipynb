{
 "cells": [
  {
   "cell_type": "markdown",
   "source": [
    "# Fix if notebook has MissingIDFieldWarning\n",
    "If any output (when importing notebook into another) has the warning, MissingIDFieldWarning, run the following code on the affected notebook (the notebook being imported)."
   ],
   "metadata": {
    "collapsed": false
   }
  },
  {
   "cell_type": "code",
   "execution_count": 6,
   "outputs": [],
   "source": [
    "problematic_notebook = \"_2_Visualize_Microstructures.ipynb\""
   ],
   "metadata": {
    "collapsed": false,
    "ExecuteTime": {
     "end_time": "2023-07-10T21:46:01.663608200Z",
     "start_time": "2023-07-10T21:46:01.652404100Z"
    }
   }
  },
  {
   "cell_type": "code",
   "execution_count": 7,
   "outputs": [],
   "source": [
    "import nbformat\n",
    "\n",
    "with open(problematic_notebook, \"r\") as file:\n",
    "    nb_corrupted = nbformat.reader.read(file)\n",
    "\n",
    "nbformat.validator.validate(nb_corrupted)\n",
    "# <stdin>:1: MissingIDFieldWarning: Code cell is missing an id field,\n",
    "# this will become a hard error in future nbformat versions.\n",
    "# You may want to use `normalize()` on your notebooks before validations (available since nbformat 5.1.4).\n",
    "# Previous versions of nbformat are fixing this issue transparently, and will stop doing so in the future."
   ],
   "metadata": {
    "collapsed": false,
    "ExecuteTime": {
     "end_time": "2023-07-10T21:46:02.108543500Z",
     "start_time": "2023-07-10T21:46:02.083165400Z"
    }
   }
  },
  {
   "cell_type": "code",
   "execution_count": 8,
   "outputs": [],
   "source": [
    "nb_fixed = nbformat.validator.normalize(nb_corrupted)\n",
    "nbformat.validator.validate(nb_fixed[1])\n",
    "# Produces no warnings or errors.\n",
    "\n",
    "with open(problematic_notebook, \"w\") as file:\n",
    "    nbformat.write(nb_fixed[1], file)"
   ],
   "metadata": {
    "collapsed": false,
    "ExecuteTime": {
     "end_time": "2023-07-10T21:46:02.760283800Z",
     "start_time": "2023-07-10T21:46:02.742785500Z"
    }
   }
  }
 ],
 "metadata": {
  "kernelspec": {
   "display_name": "Python 3",
   "language": "python",
   "name": "python3"
  },
  "language_info": {
   "codemirror_mode": {
    "name": "ipython",
    "version": 2
   },
   "file_extension": ".py",
   "mimetype": "text/x-python",
   "name": "python",
   "nbconvert_exporter": "python",
   "pygments_lexer": "ipython2",
   "version": "2.7.6"
  }
 },
 "nbformat": 4,
 "nbformat_minor": 0
}
