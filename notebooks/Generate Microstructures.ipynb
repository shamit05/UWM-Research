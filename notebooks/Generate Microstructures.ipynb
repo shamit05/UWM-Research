{
 "cells": [
  {
   "cell_type": "markdown",
   "id": "ddf46f5d-50f3-479d-91f0-a6dae6ac65eb",
   "metadata": {},
   "source": [
    "# Generating microstructures using Dream3D\n",
    "First import gen_microstructures function from src package"
   ]
  },
  {
   "cell_type": "code",
   "execution_count": 37,
   "id": "cdec18a3-0cf7-4b30-9770-3780428cd1c7",
   "metadata": {},
   "outputs": [],
   "source": [
    "import os\n",
    "from pathlib import Path\n",
    "import numpy as np\n",
    "from src.generate_microstructures import gen_microstructures, print_params"
   ]
  },
  {
   "cell_type": "code",
   "execution_count": 38,
   "id": "76c97cd9-8f39-4efc-b3f2-68d0b36239a6",
   "metadata": {},
   "outputs": [
    {
     "data": {
      "text/plain": [
       "'E:\\\\OneDrive\\\\UWM\\\\William_Musinski__Surana\\\\Research_Code\\\\Research\\\\src'"
      ]
     },
     "execution_count": 38,
     "metadata": {},
     "output_type": "execute_result"
    }
   ],
   "source": [
    "# Get name of directory that contains the PRISMS-Fatigue scripts\n",
    "DIR_LOC = os.path.join(os.path.dirname(os.getcwd()), \"src\") \n",
    "DIR_LOC"
   ]
  },
  {
   "cell_type": "markdown",
   "id": "c0cb6d48-6c9f-41d4-ab52-e640536f7911",
   "metadata": {},
   "source": [
    "Next set up parameters for microstructure generating:"
   ]
  },
  {
   "cell_type": "code",
   "execution_count": 40,
   "id": "2fad8043-30e7-4529-ba15-b89c6989cc7e",
   "metadata": {},
   "outputs": [],
   "source": [
    "# Number of microstructure instantiations to generate using DREAM.3D\n",
    "num_instantiations = 5"
   ]
  },
  {
   "cell_type": "code",
   "execution_count": 42,
   "id": "9876ca75-f27b-42a6-beea-3f3900ed82d2",
   "metadata": {
    "jupyter": {
     "source_hidden": true
    }
   },
   "outputs": [
    {
     "data": {
      "text/plain": [
       "('E:\\\\OneDrive\\\\UWM\\\\William_Musinski__Surana\\\\Research_Code\\\\Research\\\\generated_microstructures\\\\',\n",
       " array([0.0725, 0.0725, 0.0725]),\n",
       " array([29, 29, 29]),\n",
       " ['periodic', 'periodic', 'periodic'],\n",
       " 9,\n",
       " 1.0,\n",
       " 4,\n",
       " 5,\n",
       " 'E:\\\\OneDrive\\\\UWM\\\\William_Musinski__Surana\\\\Research_Code\\\\Research\\\\src\\\\Al7075_random_texture_equiaxed_grains.dream3d')"
      ]
     },
     "execution_count": 42,
     "metadata": {},
     "output_type": "execute_result"
    }
   ],
   "source": [
    "''' Specify directories and paths '''\n",
    "# Directory where microstructure data should be generated and pre-processed\n",
    "# This command creates a directory in the same location as the \"PRISMS-Fatigue\" directory with python scripts and DREAM.3D files\n",
    "directory = os.path.dirname(DIR_LOC) + '\\\\generated_microstructures\\\\'\n",
    "\n",
    "# Alternatively, the directory can be expressed as an absolute path as:\n",
    "# directory = r'C:\\Users\\stopk\\Documents\\GitHub\\PRISMS-Fatigue\\tutorial\\test_run_1'\n",
    "\n",
    "# Location of DREAM.3D input file; should consist of only the \"StatsGenerator\" and \"Write DREAM.3D Data File\"\n",
    "# \"StatsGenerator\" inputs include grain size distribution, crystallographic texture, grain morphology, etc.\n",
    "# Six \".dream3d\" files are included in PRISMS-Fatigue\n",
    "d3d_input_file = os.path.abspath(DIR_LOC) + '\\\\Al7075_random_texture_equiaxed_grains.dream3d'\n",
    "\n",
    "# Once again, this may be specified using an absolute path as:\n",
    "# d3d_input_file = r'C:\\Users\\stopk\\Documents\\GitHub\\PRISMS-Fatigue\\Al7075_cubic_texture_equiaxed_grains.dream3d'\n",
    "\n",
    "# Average grain size as determined in the \"StatsGenerator\" filter of the .dream3d file above\n",
    "# Used for automated band and sub-band sizing as shown below but which can be overwritten by the user\n",
    "# Therefore, this does NOT change the grain size generated and only affects the way in which microstructures are banded and sub-banded!\n",
    "avg_grain_size = 0.014 # millimeters\n",
    "\n",
    "# Location of DREAM.3D .json pipeline\n",
    "# This can be modified by the user to include additional outputs\n",
    "d3d_pipeline_path = os.path.abspath(DIR_LOC) + '\\\\Dream3D_microstructure_pipeline.json'\n",
    "\n",
    "# Once again, this may be specified using an absolute path as:\n",
    "# d3d_pipeline_path = r'C:\\Users\\stopk\\Documents\\GitHub\\PRISMS-Fatigue\\Dream3D_microstructure_pipeline.json'\n",
    "\n",
    "# Location of DREAM.3D 'PipelineRunner.exe' file; this should be in the DREAM.3D program folder\n",
    "d3d_executable_path = '\"' + os.path.abspath(Path(DIR_LOC).parents[0]) + '\\\\Dream3D-build\\\\DREAM3D-6.5.171-Win64\\\\PipelineRunner.exe\"'\n",
    "\n",
    "\n",
    "''' Specify desired microstructure size and shape '''\n",
    "# Size of microstructure instantiations in millimeters, in the X, Y, and Z directions, respectively.\n",
    "size  = np.asarray([.0725,.0725,.0725])\n",
    "\n",
    "# Shape of microstructure instantiations (number of voxels/elements), in the X, Y, and Z directions, respectively.\n",
    "# IMPORTANT: at this point, only CUBIC voxel functionality supported even with a non-cubic microstructure\n",
    "# I.e., size = [.05, .1, .025] and shape = [50, 100, 25] is acceptable\n",
    "shape = np.asarray([29,29,29])\n",
    "\n",
    "''' Specify details of banding and sub-banding process '''\n",
    "# Specify the number of elements in each sub-band for volume averaging\n",
    "# Please see the references below for more information\n",
    "# WARNING!: If this is too low for very refined grains, this module will take a long time to run!\n",
    "# This is because it attempts to determine all UNIQUE combinations of some number of neighboring elements\n",
    "\n",
    "# NOTE: Aim for ~8-10% of the average grain volume as the num_vox, as specified below\n",
    "# This is especially important when comparing microstructures with different grain sizes!\n",
    "num_vox_percentage = 0.10\n",
    "\n",
    "# This line calculates num_vox to be \"num_vox_percentage\" percent of the predicted average number of elements per grain\n",
    "num_vox = np.around(np.prod(shape) / (np.prod(size) / ( (1.0/6.0) * np.pi * avg_grain_size ** 3  ) ) * num_vox_percentage).astype(int)\n",
    "\n",
    "# Comment out the above line and uncomment the line below to manually set the number of elements per sub-band\n",
    "# num_vox = 8\n",
    "\n",
    "# Specify the thickness of bands in terms of number of elements\n",
    "# Ideally, this should result in approximately 6 bands for coarser grains (~100 elements per grain)\n",
    "# NOTE: This should also be ~one or a few micrometers in thickness based on experimental observations of slip bands\n",
    "# See reference below, Castelluccio and McDowell\n",
    "\n",
    "# This line calculates the band thickness IN MULTIPLES OF element thickness\n",
    "band_thickness = np.around( avg_grain_size / ( 6 * size[0]/shape[0]) )\n",
    "if band_thickness < 1:\n",
    "    # The microstructure is relatively coarse so need to override band thickness to 1 element in width\n",
    "    print('Setting band thickness to 1 element in width')\n",
    "    band_thickness = 1.0\n",
    "\n",
    "# Comment out the above line and uncomment the line below to manually set the band element thickness\n",
    "# Set as float for subsequent calculations\n",
    "# band_thickness = 3.0\n",
    "\n",
    "# Number of crystallographic slip planes for FIP Volume averaging\n",
    "# There are four slip planes in the Al 7075-T6 material system (see references below)\n",
    "num_planes = 4\n",
    "\n",
    "# Specify whether bands in grains should be further assigned to unique sub-bands\n",
    "# WARNING!: this is slow for a) microstructures with many grains, and 2) very fine grains, i.e., thousands of elements per grain\n",
    "# NOTE: Microstructure(s) can be created with this intially set to False, and the \"gen_microstructures\" can be executed with the variable \"generate_new_microstructure_files\" set to False, so that the SAME microstructure(s) can undergo the sub-banding process at a later time.\n",
    "create_sub_bands = True\n",
    "\n",
    "# Specify whether the centroids of grains split by the microstructure boundary should be manipulated to reflect periodicity\n",
    "# Setting this to False will substantially increase the speed at which microstructures are pre-processed, but will reduce the accuracy of computed and volume-averaged fatigue indicator parameters downstream!\n",
    "# Users can set this to False but rerun this script with \"generate_new_microstructure_files\" set to False and \"compute_kosher_grain_centroids\" set to True to compute the realistic grain centroids at a later time\n",
    "compute_kosher_grain_centroids = True\n",
    "\n",
    "''' Specify boundary conditions '''\n",
    "# Boundary conditions, either \"periodic\" or \"free surface\", for X,Y,Z directions\n",
    "# Three possible combinations: 1) all 'periodic', 2) all 'free', or 3) two 'periodic' + one 'free'\n",
    "face_bc = ['periodic', 'periodic', 'periodic']\n",
    "\n",
    "# Specify whether DREAM.3D was previously executed on these files\n",
    "# If set to False, the script will NOT generate new DREAM.3D microstructure(s) and instead process the existing microstructures by reading the .csv and GrainID_#.txt files\n",
    "# Reasons to set this to False:\n",
    "#     1) Process the same set of microstructures with a different number of elements per sub-band, and store these in a separate folder. In this case, copy over the .csv and GrainID_#.txt files to a new folder and run this script.\n",
    "#     2) Generate a set of ['periodic', 'periodic', 'periodic'] microstructures, and then reprocesses them with one set of faces set to non-periodic, i.e., ['periodic', 'free', 'periodic'], to study bulk vs. surface fatigue effects.\n",
    "# NOTE: If the variable is set to False, all that is needed in the folder is the DREAM.3D exported .csv and \"grainID.txt\" files for each microstructure\n",
    "generate_new_microstructure_files = True\n",
    "\n",
    "# Print the parameters of this microstructure set to a text file\n",
    "print_params(directory, size, shape, face_bc, num_vox, band_thickness, num_planes, num_instantiations, d3d_input_file)\n",
    "directory, size, shape, face_bc, num_vox, band_thickness, num_planes, num_instantiations, d3d_input_file"
   ]
  },
  {
   "cell_type": "code",
   "execution_count": 43,
   "id": "995aaff6-7e17-44dc-8250-f79787b33fbc",
   "metadata": {
    "scrolled": true
   },
   "outputs": [
    {
     "name": "stdout",
     "output_type": "stream",
     "text": [
      "Current output microstructure file: E:/OneDrive/UWM/William_Musinski__Surana/Research_Code/Research/generated_microstructures//Output_FakeMatl_0.vtk\n",
      "Current output microstructure file: E:/OneDrive/UWM/William_Musinski__Surana/Research_Code/Research/generated_microstructures//Output_FakeMatl_1.vtk\n",
      "Current output microstructure file: E:/OneDrive/UWM/William_Musinski__Surana/Research_Code/Research/generated_microstructures//Output_FakeMatl_2.vtk\n",
      "Current output microstructure file: E:/OneDrive/UWM/William_Musinski__Surana/Research_Code/Research/generated_microstructures//Output_FakeMatl_3.vtk\n",
      "Current output microstructure file: E:/OneDrive/UWM/William_Musinski__Surana/Research_Code/Research/generated_microstructures//Output_FakeMatl_4.vtk\n",
      "Band width of 0.0025\n",
      "Calculate realistic grain centroids\n",
      "\n",
      "Finished 0.0% grains\n",
      "Finished 37.9% grains\n",
      "Finished 75.8% grains\n",
      "Time to determine kosher element centroids: 0.72 seconds \n",
      "Amount of bands in total is 5263\n",
      "Time to band microstructure: 0.19 seconds \n",
      "Sub-banding grain: 0\n",
      "Sub-banding grain: 100\n",
      "Sub-banding grain: 200\n",
      "Sub-banding complete\n",
      "Sub-band generation time: 5.14 seconds \n",
      "Calculate realistic grain centroids\n",
      "\n",
      "Finished 0.0% grains\n",
      "Finished 37.0% grains\n",
      "Finished 74.1% grains\n",
      "Time to determine kosher element centroids: 0.71 seconds \n",
      "Amount of bands in total is 5357\n",
      "Time to band microstructure: 0.19 seconds \n",
      "Sub-banding grain: 0\n",
      "Sub-banding grain: 100\n",
      "Sub-banding grain: 200\n",
      "Sub-banding complete\n",
      "Sub-band generation time: 4.90 seconds \n",
      "Calculate realistic grain centroids\n",
      "\n",
      "Finished 0.0% grains\n",
      "Finished 35.7% grains\n",
      "Finished 71.4% grains\n",
      "Time to determine kosher element centroids: 0.72 seconds \n",
      "Amount of bands in total is 5343\n",
      "Time to band microstructure: 0.17 seconds \n",
      "Sub-banding grain: 0\n",
      "Sub-banding grain: 100\n",
      "Sub-banding grain: 200\n",
      "Sub-banding complete\n",
      "Sub-band generation time: 4.70 seconds \n",
      "Calculate realistic grain centroids\n",
      "\n",
      "Finished 0.0% grains\n",
      "Finished 35.7% grains\n",
      "Finished 71.4% grains\n",
      "Time to determine kosher element centroids: 0.75 seconds \n",
      "Amount of bands in total is 5396\n",
      "Time to band microstructure: 0.17 seconds \n",
      "Sub-banding grain: 0\n",
      "Sub-banding grain: 100\n",
      "Sub-banding grain: 200\n",
      "Sub-banding complete\n",
      "Sub-band generation time: 4.75 seconds \n",
      "Calculate realistic grain centroids\n",
      "\n",
      "Finished 0.0% grains\n",
      "Finished 37.0% grains\n",
      "Finished 74.1% grains\n",
      "Time to determine kosher element centroids: 0.75 seconds \n",
      "Amount of bands in total is 5334\n",
      "Time to band microstructure: 0.18 seconds \n",
      "Sub-banding grain: 0\n",
      "Sub-banding grain: 100\n",
      "Sub-banding grain: 200\n",
      "Sub-banding complete\n",
      "Sub-band generation time: 5.00 seconds \n",
      "Total time to generate microstructures: 83.36 seconds \n"
     ]
    }
   ],
   "source": [
    "# Call to the main function\n",
    "gen_microstructures(directory, size, shape, face_bc, num_vox, band_thickness, num_planes, create_sub_bands, num_instantiations, generate_new_microstructure_files, compute_kosher_grain_centroids, d3d_input_file, d3d_pipeline_path, d3d_executable_path)"
   ]
  },
  {
   "cell_type": "code",
   "execution_count": null,
   "id": "c34ee046-bfb5-4de3-b104-43df6c452f19",
   "metadata": {},
   "outputs": [],
   "source": []
  }
 ],
 "metadata": {
  "kernelspec": {
   "display_name": "Python 3 (ipykernel)",
   "language": "python",
   "name": "python3"
  },
  "language_info": {
   "codemirror_mode": {
    "name": "ipython",
    "version": 3
   },
   "file_extension": ".py",
   "mimetype": "text/x-python",
   "name": "python",
   "nbconvert_exporter": "python",
   "pygments_lexer": "ipython3",
   "version": "3.10.1"
  }
 },
 "nbformat": 4,
 "nbformat_minor": 5
}
