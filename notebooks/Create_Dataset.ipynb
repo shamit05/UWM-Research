{
 "cells": [
  {
   "cell_type": "markdown",
   "id": "df296794-476f-4dfe-bd67-488a7bfafd58",
   "metadata": {},
   "source": [
    "# Generating data files (.pt)\n",
    "#### Setup instructions\n",
    "Ensure that FeatureData_FakeMatl exists in order to generate graph."
   ]
  },
  {
   "cell_type": "code",
   "execution_count": 2,
   "id": "373fcd39-a4c2-439c-bf0a-237e604cb422",
   "metadata": {},
   "outputs": [
    {
     "name": "stdout",
     "output_type": "stream",
     "text": [
      "importing Jupyter notebook from Visualize_Microstructures.ipynb\n"
     ]
    }
   ],
   "source": [
    "import import_ipynb\n",
    "from Visualize_Microstructures import gen_graph, DIR_LOC\n",
    "\n",
    "import os\n",
    "import pathlib\n",
    "\n",
    "import numpy as np\n",
    "from torch_geometric.utils import from_networkx\n",
    "import torch\n",
    "import torch.nn.functional as F\n",
    "from torch_geometric.nn import GCNConv\n",
    "from torch_geometric.loader import DataLoader\n",
    "\n",
    "GEN_STRUCTURES_FILE_BASE = os.path.join(DIR_LOC, \"generated_microstructures\", \"FeatureData_FakeMatl_\")\n",
    "NUM_MICROSTRUCTURES = 99"
   ]
  },
  {
   "cell_type": "code",
   "execution_count": 11,
   "id": "bc1791cf-9613-4600-a4e4-acea224887f3",
   "metadata": {},
   "outputs": [],
   "source": [
    "def network_to_pyg_data(file):\n",
    "    G = gen_graph(file)\n",
    "    pyg_graph = from_networkx(G, group_node_attrs=[\"pos\"], group_edge_attrs=[\"weight\"])\n",
    "    pyg_graph.y = pyg_graph[\"surfaceFeature\"]\n",
    "    del pyg_graph[\"surfaceFeature\"]\n",
    "    pyg_graph.y = pyg_graph.y.type(torch.LongTensor)\n",
    "\n",
    "    # Split the data\n",
    "    train_ratio = 0.2\n",
    "    num_nodes = pyg_graph.x.shape[0]\n",
    "    num_train = int(num_nodes * train_ratio)\n",
    "    idx = [i for i in range(num_nodes)]\n",
    "\n",
    "    np.random.shuffle(idx)\n",
    "    train_mask = torch.full_like(pyg_graph.y, False, dtype=bool)\n",
    "    train_mask[idx[:num_train]] = True\n",
    "    test_mask = torch.full_like(pyg_graph.y, False, dtype=bool)\n",
    "    test_mask[idx[num_train:]] = True\n",
    "\n",
    "    data = pyg_graph\n",
    "    data.train_mask = train_mask\n",
    "    data.test_mask = test_mask\n",
    "\n",
    "    return data"
   ]
  },
  {
   "cell_type": "code",
   "execution_count": 15,
   "id": "4ca02fff-8025-4655-9cc3-930bdf0a4a0e",
   "metadata": {
    "scrolled": true
   },
   "outputs": [
    {
     "name": "stdout",
     "output_type": "stream",
     "text": [
      "Loading graph 0...\n",
      "Loading graph 1...\n",
      "Loading graph 2...\n",
      "Loading graph 3...\n",
      "Loading graph 4...\n",
      "Loading graph 5...\n",
      "Loading graph 6...\n",
      "Loading graph 7...\n",
      "Loading graph 8...\n",
      "Loading graph 9...\n",
      "Loading graph 10...\n",
      "Loading graph 11...\n",
      "Loading graph 12...\n",
      "Loading graph 13...\n",
      "Loading graph 14...\n",
      "Loading graph 15...\n",
      "Loading graph 16...\n",
      "Loading graph 17...\n",
      "Loading graph 18...\n",
      "Loading graph 19...\n",
      "Loading graph 20...\n",
      "Loading graph 21...\n",
      "Loading graph 22...\n",
      "Loading graph 23...\n",
      "Loading graph 24...\n",
      "Loading graph 25...\n",
      "Loading graph 26...\n",
      "Loading graph 27...\n",
      "Loading graph 28...\n",
      "Loading graph 29...\n",
      "Loading graph 30...\n",
      "Loading graph 31...\n",
      "Loading graph 32...\n",
      "Loading graph 33...\n",
      "Loading graph 34...\n",
      "Loading graph 35...\n",
      "Loading graph 36...\n",
      "Loading graph 37...\n",
      "Loading graph 38...\n",
      "Loading graph 39...\n",
      "Loading graph 40...\n",
      "Loading graph 41...\n",
      "Loading graph 42...\n",
      "Loading graph 43...\n",
      "Loading graph 44...\n",
      "Loading graph 45...\n",
      "Loading graph 46...\n",
      "Loading graph 47...\n",
      "Loading graph 48...\n",
      "Loading graph 49...\n",
      "Loading graph 50...\n",
      "Loading graph 51...\n",
      "Loading graph 52...\n",
      "Loading graph 53...\n",
      "Loading graph 54...\n",
      "Loading graph 55...\n",
      "Loading graph 56...\n",
      "Loading graph 57...\n",
      "Loading graph 58...\n",
      "Loading graph 59...\n",
      "Loading graph 60...\n",
      "Loading graph 61...\n",
      "Loading graph 62...\n",
      "Loading graph 63...\n",
      "Loading graph 64...\n",
      "Loading graph 65...\n",
      "Loading graph 66...\n",
      "Loading graph 67...\n",
      "Loading graph 68...\n",
      "Loading graph 69...\n",
      "Loading graph 70...\n",
      "Loading graph 71...\n",
      "Loading graph 72...\n",
      "Loading graph 73...\n",
      "Loading graph 74...\n",
      "Loading graph 75...\n",
      "Loading graph 76...\n",
      "Loading graph 77...\n",
      "Loading graph 78...\n",
      "Loading graph 79...\n",
      "Loading graph 80...\n",
      "Loading graph 81...\n",
      "Loading graph 82...\n",
      "Loading graph 83...\n",
      "Loading graph 84...\n",
      "Loading graph 85...\n",
      "Loading graph 86...\n",
      "Loading graph 87...\n",
      "Loading graph 88...\n",
      "Loading graph 89...\n",
      "Loading graph 90...\n",
      "Loading graph 91...\n",
      "Loading graph 92...\n",
      "Loading graph 93...\n",
      "Loading graph 94...\n",
      "Loading graph 95...\n",
      "Loading graph 96...\n",
      "Loading graph 97...\n",
      "Loading graph 98...\n",
      "[Data(edge_index=[2, 3406], rot=[244, 3], size=[244], x=[244, 3], edge_attr=[3406, 1], y=[244], train_mask=[244], test_mask=[244]), Data(edge_index=[2, 3542], rot=[253, 3], size=[253], x=[253, 3], edge_attr=[3542, 1], y=[253], train_mask=[253], test_mask=[253]), Data(edge_index=[2, 3402], rot=[249, 3], size=[249], x=[249, 3], edge_attr=[3402, 1], y=[249], train_mask=[249], test_mask=[249]), Data(edge_index=[2, 3532], rot=[256, 3], size=[256], x=[256, 3], edge_attr=[3532, 1], y=[256], train_mask=[256], test_mask=[256]), Data(edge_index=[2, 3310], rot=[247, 3], size=[247], x=[247, 3], edge_attr=[3310, 1], y=[247], train_mask=[247], test_mask=[247]), Data(edge_index=[2, 3404], rot=[252, 3], size=[252], x=[252, 3], edge_attr=[3404, 1], y=[252], train_mask=[252], test_mask=[252]), Data(edge_index=[2, 3316], rot=[239, 3], size=[239], x=[239, 3], edge_attr=[3316, 1], y=[239], train_mask=[239], test_mask=[239]), Data(edge_index=[2, 3402], rot=[247, 3], size=[247], x=[247, 3], edge_attr=[3402, 1], y=[247], train_mask=[247], test_mask=[247]), Data(edge_index=[2, 3532], rot=[250, 3], size=[250], x=[250, 3], edge_attr=[3532, 1], y=[250], train_mask=[250], test_mask=[250]), Data(edge_index=[2, 3510], rot=[254, 3], size=[254], x=[254, 3], edge_attr=[3510, 1], y=[254], train_mask=[254], test_mask=[254]), Data(edge_index=[2, 3544], rot=[250, 3], size=[250], x=[250, 3], edge_attr=[3544, 1], y=[250], train_mask=[250], test_mask=[250]), Data(edge_index=[2, 3428], rot=[245, 3], size=[245], x=[245, 3], edge_attr=[3428, 1], y=[245], train_mask=[245], test_mask=[245]), Data(edge_index=[2, 3526], rot=[251, 3], size=[251], x=[251, 3], edge_attr=[3526, 1], y=[251], train_mask=[251], test_mask=[251]), Data(edge_index=[2, 3428], rot=[250, 3], size=[250], x=[250, 3], edge_attr=[3428, 1], y=[250], train_mask=[250], test_mask=[250]), Data(edge_index=[2, 3414], rot=[243, 3], size=[243], x=[243, 3], edge_attr=[3414, 1], y=[243], train_mask=[243], test_mask=[243]), Data(edge_index=[2, 3364], rot=[246, 3], size=[246], x=[246, 3], edge_attr=[3364, 1], y=[246], train_mask=[246], test_mask=[246]), Data(edge_index=[2, 3438], rot=[249, 3], size=[249], x=[249, 3], edge_attr=[3438, 1], y=[249], train_mask=[249], test_mask=[249]), Data(edge_index=[2, 3560], rot=[252, 3], size=[252], x=[252, 3], edge_attr=[3560, 1], y=[252], train_mask=[252], test_mask=[252]), Data(edge_index=[2, 3442], rot=[249, 3], size=[249], x=[249, 3], edge_attr=[3442, 1], y=[249], train_mask=[249], test_mask=[249]), Data(edge_index=[2, 3356], rot=[242, 3], size=[242], x=[242, 3], edge_attr=[3356, 1], y=[242], train_mask=[242], test_mask=[242]), Data(edge_index=[2, 3456], rot=[250, 3], size=[250], x=[250, 3], edge_attr=[3456, 1], y=[250], train_mask=[250], test_mask=[250]), Data(edge_index=[2, 3316], rot=[248, 3], size=[248], x=[248, 3], edge_attr=[3316, 1], y=[248], train_mask=[248], test_mask=[248]), Data(edge_index=[2, 3484], rot=[250, 3], size=[250], x=[250, 3], edge_attr=[3484, 1], y=[250], train_mask=[250], test_mask=[250]), Data(edge_index=[2, 3588], rot=[253, 3], size=[253], x=[253, 3], edge_attr=[3588, 1], y=[253], train_mask=[253], test_mask=[253]), Data(edge_index=[2, 3328], rot=[247, 3], size=[247], x=[247, 3], edge_attr=[3328, 1], y=[247], train_mask=[247], test_mask=[247]), Data(edge_index=[2, 3318], rot=[241, 3], size=[241], x=[241, 3], edge_attr=[3318, 1], y=[241], train_mask=[241], test_mask=[241]), Data(edge_index=[2, 3242], rot=[244, 3], size=[244], x=[244, 3], edge_attr=[3242, 1], y=[244], train_mask=[244], test_mask=[244]), Data(edge_index=[2, 3430], rot=[249, 3], size=[249], x=[249, 3], edge_attr=[3430, 1], y=[249], train_mask=[249], test_mask=[249]), Data(edge_index=[2, 3508], rot=[249, 3], size=[249], x=[249, 3], edge_attr=[3508, 1], y=[249], train_mask=[249], test_mask=[249]), Data(edge_index=[2, 3478], rot=[246, 3], size=[246], x=[246, 3], edge_attr=[3478, 1], y=[246], train_mask=[246], test_mask=[246]), Data(edge_index=[2, 3366], rot=[246, 3], size=[246], x=[246, 3], edge_attr=[3366, 1], y=[246], train_mask=[246], test_mask=[246]), Data(edge_index=[2, 3460], rot=[251, 3], size=[251], x=[251, 3], edge_attr=[3460, 1], y=[251], train_mask=[251], test_mask=[251]), Data(edge_index=[2, 3480], rot=[249, 3], size=[249], x=[249, 3], edge_attr=[3480, 1], y=[249], train_mask=[249], test_mask=[249]), Data(edge_index=[2, 3360], rot=[247, 3], size=[247], x=[247, 3], edge_attr=[3360, 1], y=[247], train_mask=[247], test_mask=[247]), Data(edge_index=[2, 3448], rot=[251, 3], size=[251], x=[251, 3], edge_attr=[3448, 1], y=[251], train_mask=[251], test_mask=[251]), Data(edge_index=[2, 3476], rot=[248, 3], size=[248], x=[248, 3], edge_attr=[3476, 1], y=[248], train_mask=[248], test_mask=[248]), Data(edge_index=[2, 3524], rot=[256, 3], size=[256], x=[256, 3], edge_attr=[3524, 1], y=[256], train_mask=[256], test_mask=[256]), Data(edge_index=[2, 3340], rot=[243, 3], size=[243], x=[243, 3], edge_attr=[3340, 1], y=[243], train_mask=[243], test_mask=[243]), Data(edge_index=[2, 3394], rot=[246, 3], size=[246], x=[246, 3], edge_attr=[3394, 1], y=[246], train_mask=[246], test_mask=[246]), Data(edge_index=[2, 3340], rot=[242, 3], size=[242], x=[242, 3], edge_attr=[3340, 1], y=[242], train_mask=[242], test_mask=[242]), Data(edge_index=[2, 3496], rot=[255, 3], size=[255], x=[255, 3], edge_attr=[3496, 1], y=[255], train_mask=[255], test_mask=[255]), Data(edge_index=[2, 3496], rot=[248, 3], size=[248], x=[248, 3], edge_attr=[3496, 1], y=[248], train_mask=[248], test_mask=[248]), Data(edge_index=[2, 3544], rot=[256, 3], size=[256], x=[256, 3], edge_attr=[3544, 1], y=[256], train_mask=[256], test_mask=[256]), Data(edge_index=[2, 3504], rot=[249, 3], size=[249], x=[249, 3], edge_attr=[3504, 1], y=[249], train_mask=[249], test_mask=[249]), Data(edge_index=[2, 3386], rot=[245, 3], size=[245], x=[245, 3], edge_attr=[3386, 1], y=[245], train_mask=[245], test_mask=[245]), Data(edge_index=[2, 3472], rot=[253, 3], size=[253], x=[253, 3], edge_attr=[3472, 1], y=[253], train_mask=[253], test_mask=[253]), Data(edge_index=[2, 3436], rot=[245, 3], size=[245], x=[245, 3], edge_attr=[3436, 1], y=[245], train_mask=[245], test_mask=[245]), Data(edge_index=[2, 3486], rot=[251, 3], size=[251], x=[251, 3], edge_attr=[3486, 1], y=[251], train_mask=[251], test_mask=[251]), Data(edge_index=[2, 3326], rot=[241, 3], size=[241], x=[241, 3], edge_attr=[3326, 1], y=[241], train_mask=[241], test_mask=[241]), Data(edge_index=[2, 3458], rot=[245, 3], size=[245], x=[245, 3], edge_attr=[3458, 1], y=[245], train_mask=[245], test_mask=[245]), Data(edge_index=[2, 3378], rot=[246, 3], size=[246], x=[246, 3], edge_attr=[3378, 1], y=[246], train_mask=[246], test_mask=[246]), Data(edge_index=[2, 3520], rot=[251, 3], size=[251], x=[251, 3], edge_attr=[3520, 1], y=[251], train_mask=[251], test_mask=[251]), Data(edge_index=[2, 3496], rot=[250, 3], size=[250], x=[250, 3], edge_attr=[3496, 1], y=[250], train_mask=[250], test_mask=[250]), Data(edge_index=[2, 3376], rot=[247, 3], size=[247], x=[247, 3], edge_attr=[3376, 1], y=[247], train_mask=[247], test_mask=[247]), Data(edge_index=[2, 3558], rot=[253, 3], size=[253], x=[253, 3], edge_attr=[3558, 1], y=[253], train_mask=[253], test_mask=[253]), Data(edge_index=[2, 3420], rot=[248, 3], size=[248], x=[248, 3], edge_attr=[3420, 1], y=[248], train_mask=[248], test_mask=[248]), Data(edge_index=[2, 3492], rot=[248, 3], size=[248], x=[248, 3], edge_attr=[3492, 1], y=[248], train_mask=[248], test_mask=[248]), Data(edge_index=[2, 3462], rot=[246, 3], size=[246], x=[246, 3], edge_attr=[3462, 1], y=[246], train_mask=[246], test_mask=[246]), Data(edge_index=[2, 3418], rot=[248, 3], size=[248], x=[248, 3], edge_attr=[3418, 1], y=[248], train_mask=[248], test_mask=[248]), Data(edge_index=[2, 3386], rot=[243, 3], size=[243], x=[243, 3], edge_attr=[3386, 1], y=[243], train_mask=[243], test_mask=[243]), Data(edge_index=[2, 3444], rot=[247, 3], size=[247], x=[247, 3], edge_attr=[3444, 1], y=[247], train_mask=[247], test_mask=[247]), Data(edge_index=[2, 3480], rot=[251, 3], size=[251], x=[251, 3], edge_attr=[3480, 1], y=[251], train_mask=[251], test_mask=[251]), Data(edge_index=[2, 3520], rot=[252, 3], size=[252], x=[252, 3], edge_attr=[3520, 1], y=[252], train_mask=[252], test_mask=[252]), Data(edge_index=[2, 3262], rot=[241, 3], size=[241], x=[241, 3], edge_attr=[3262, 1], y=[241], train_mask=[241], test_mask=[241]), Data(edge_index=[2, 3316], rot=[237, 3], size=[237], x=[237, 3], edge_attr=[3316, 1], y=[237], train_mask=[237], test_mask=[237]), Data(edge_index=[2, 3458], rot=[243, 3], size=[243], x=[243, 3], edge_attr=[3458, 1], y=[243], train_mask=[243], test_mask=[243]), Data(edge_index=[2, 3508], rot=[249, 3], size=[249], x=[249, 3], edge_attr=[3508, 1], y=[249], train_mask=[249], test_mask=[249]), Data(edge_index=[2, 3478], rot=[249, 3], size=[249], x=[249, 3], edge_attr=[3478, 1], y=[249], train_mask=[249], test_mask=[249]), Data(edge_index=[2, 3402], rot=[253, 3], size=[253], x=[253, 3], edge_attr=[3402, 1], y=[253], train_mask=[253], test_mask=[253]), Data(edge_index=[2, 3518], rot=[252, 3], size=[252], x=[252, 3], edge_attr=[3518, 1], y=[252], train_mask=[252], test_mask=[252]), Data(edge_index=[2, 3294], rot=[241, 3], size=[241], x=[241, 3], edge_attr=[3294, 1], y=[241], train_mask=[241], test_mask=[241]), Data(edge_index=[2, 3314], rot=[242, 3], size=[242], x=[242, 3], edge_attr=[3314, 1], y=[242], train_mask=[242], test_mask=[242]), Data(edge_index=[2, 3354], rot=[248, 3], size=[248], x=[248, 3], edge_attr=[3354, 1], y=[248], train_mask=[248], test_mask=[248]), Data(edge_index=[2, 3516], rot=[257, 3], size=[257], x=[257, 3], edge_attr=[3516, 1], y=[257], train_mask=[257], test_mask=[257]), Data(edge_index=[2, 3466], rot=[251, 3], size=[251], x=[251, 3], edge_attr=[3466, 1], y=[251], train_mask=[251], test_mask=[251]), Data(edge_index=[2, 3318], rot=[243, 3], size=[243], x=[243, 3], edge_attr=[3318, 1], y=[243], train_mask=[243], test_mask=[243]), Data(edge_index=[2, 3368], rot=[248, 3], size=[248], x=[248, 3], edge_attr=[3368, 1], y=[248], train_mask=[248], test_mask=[248]), Data(edge_index=[2, 3506], rot=[250, 3], size=[250], x=[250, 3], edge_attr=[3506, 1], y=[250], train_mask=[250], test_mask=[250]), Data(edge_index=[2, 3304], rot=[242, 3], size=[242], x=[242, 3], edge_attr=[3304, 1], y=[242], train_mask=[242], test_mask=[242]), Data(edge_index=[2, 3520], rot=[253, 3], size=[253], x=[253, 3], edge_attr=[3520, 1], y=[253], train_mask=[253], test_mask=[253]), Data(edge_index=[2, 3474], rot=[248, 3], size=[248], x=[248, 3], edge_attr=[3474, 1], y=[248], train_mask=[248], test_mask=[248]), Data(edge_index=[2, 3552], rot=[250, 3], size=[250], x=[250, 3], edge_attr=[3552, 1], y=[250], train_mask=[250], test_mask=[250]), Data(edge_index=[2, 3398], rot=[248, 3], size=[248], x=[248, 3], edge_attr=[3398, 1], y=[248], train_mask=[248], test_mask=[248]), Data(edge_index=[2, 3448], rot=[245, 3], size=[245], x=[245, 3], edge_attr=[3448, 1], y=[245], train_mask=[245], test_mask=[245]), Data(edge_index=[2, 3256], rot=[238, 3], size=[238], x=[238, 3], edge_attr=[3256, 1], y=[238], train_mask=[238], test_mask=[238]), Data(edge_index=[2, 3470], rot=[250, 3], size=[250], x=[250, 3], edge_attr=[3470, 1], y=[250], train_mask=[250], test_mask=[250]), Data(edge_index=[2, 3310], rot=[238, 3], size=[238], x=[238, 3], edge_attr=[3310, 1], y=[238], train_mask=[238], test_mask=[238]), Data(edge_index=[2, 3540], rot=[251, 3], size=[251], x=[251, 3], edge_attr=[3540, 1], y=[251], train_mask=[251], test_mask=[251]), Data(edge_index=[2, 3430], rot=[250, 3], size=[250], x=[250, 3], edge_attr=[3430, 1], y=[250], train_mask=[250], test_mask=[250]), Data(edge_index=[2, 3380], rot=[242, 3], size=[242], x=[242, 3], edge_attr=[3380, 1], y=[242], train_mask=[242], test_mask=[242]), Data(edge_index=[2, 3314], rot=[247, 3], size=[247], x=[247, 3], edge_attr=[3314, 1], y=[247], train_mask=[247], test_mask=[247]), Data(edge_index=[2, 3442], rot=[249, 3], size=[249], x=[249, 3], edge_attr=[3442, 1], y=[249], train_mask=[249], test_mask=[249]), Data(edge_index=[2, 3326], rot=[245, 3], size=[245], x=[245, 3], edge_attr=[3326, 1], y=[245], train_mask=[245], test_mask=[245]), Data(edge_index=[2, 3406], rot=[246, 3], size=[246], x=[246, 3], edge_attr=[3406, 1], y=[246], train_mask=[246], test_mask=[246]), Data(edge_index=[2, 3406], rot=[248, 3], size=[248], x=[248, 3], edge_attr=[3406, 1], y=[248], train_mask=[248], test_mask=[248]), Data(edge_index=[2, 3432], rot=[247, 3], size=[247], x=[247, 3], edge_attr=[3432, 1], y=[247], train_mask=[247], test_mask=[247]), Data(edge_index=[2, 3424], rot=[249, 3], size=[249], x=[249, 3], edge_attr=[3424, 1], y=[249], train_mask=[249], test_mask=[249]), Data(edge_index=[2, 3324], rot=[241, 3], size=[241], x=[241, 3], edge_attr=[3324, 1], y=[241], train_mask=[241], test_mask=[241]), Data(edge_index=[2, 3356], rot=[242, 3], size=[242], x=[242, 3], edge_attr=[3356, 1], y=[242], train_mask=[242], test_mask=[242])]\n",
      "Combining data...\n"
     ]
    }
   ],
   "source": [
    "if __name__ == \"__main__\":\n",
    "    data_batch = []\n",
    "    for i in range(0, NUM_MICROSTRUCTURES):\n",
    "        file = GEN_STRUCTURES_FILE_BASE + str(i) + \".csv\"\n",
    "        print(\"Loading graph \" + str(i) + \"...\")\n",
    "        data_batch.append(network_to_pyg_data(file))\n",
    "    \n",
    "    print(data_batch)\n",
    "    # loader to combine data\n",
    "    print(\"Combining data...\")\n",
    "    \n",
    "    loader = DataLoader(data_batch, batch_size=32)\n",
    "    data = next(iter(loader))\n",
    "    data"
   ]
  },
  {
   "cell_type": "code",
   "execution_count": 16,
   "id": "9b479f77-6276-45d6-93df-7b1b65a6eecf",
   "metadata": {},
   "outputs": [],
   "source": [
    "torch.save(data, \"datasets/data.pt\")"
   ]
  },
  {
   "cell_type": "code",
   "execution_count": 17,
   "id": "3eb784fd-8859-4c3b-b8f5-4e47d1d31642",
   "metadata": {},
   "outputs": [
    {
     "data": {
      "text/plain": [
       "DataBatch(edge_index=[2, 109830], rot=[7942, 3], size=[7942], x=[7942, 3], edge_attr=[109830, 1], y=[7942], train_mask=[7942], test_mask=[7942], batch=[7942], ptr=[33])"
      ]
     },
     "execution_count": 17,
     "metadata": {},
     "output_type": "execute_result"
    }
   ],
   "source": [
    "data"
   ]
  }
 ],
 "metadata": {
  "kernelspec": {
   "display_name": "Python 3 (ipykernel)",
   "language": "python",
   "name": "python3"
  },
  "language_info": {
   "codemirror_mode": {
    "name": "ipython",
    "version": 3
   },
   "file_extension": ".py",
   "mimetype": "text/x-python",
   "name": "python",
   "nbconvert_exporter": "python",
   "pygments_lexer": "ipython3",
   "version": "3.10.12"
  }
 },
 "nbformat": 4,
 "nbformat_minor": 5
}
