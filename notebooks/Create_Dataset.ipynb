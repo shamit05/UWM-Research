{
 "cells": [
  {
   "cell_type": "markdown",
   "id": "df296794-476f-4dfe-bd67-488a7bfafd58",
   "metadata": {},
   "source": [
    "# Generating data files (.pt)\n",
    "#### Setup instructions\n",
    "Ensure that FeatureData_FakeMatl exists in order to generate graph."
   ]
  },
  {
   "cell_type": "code",
   "execution_count": 1,
   "id": "373fcd39-a4c2-439c-bf0a-237e604cb422",
   "metadata": {
    "ExecuteTime": {
     "end_time": "2023-07-07T20:48:00.530868500Z",
     "start_time": "2023-07-07T20:47:56.864300500Z"
    }
   },
   "outputs": [
    {
     "name": "stdout",
     "output_type": "stream",
     "text": [
      "importing Jupyter notebook from Visualize_Microstructures.ipynb\n"
     ]
    }
   ],
   "source": [
    "import import_ipynb\n",
    "from Visualize_Microstructures import gen_graph, DIR_LOC\n",
    "\n",
    "import os\n",
    "\n",
    "import numpy as np\n",
    "from torch_geometric.utils import from_networkx\n",
    "import torch\n",
    "from torch_geometric.loader import DataLoader\n",
    "\n",
    "GEN_STRUCTURES_FILE_BASE = os.path.join(DIR_LOC, \"generated_microstructures\", \"FeatureData_FakeMatl_\")\n",
    "NUM_MICROSTRUCTURES_START = 0 # Including start\n",
    "NUM_MICROSTRUCTURES_END = 99 # Not including end"
   ]
  },
  {
   "cell_type": "code",
   "execution_count": 2,
   "id": "bc1791cf-9613-4600-a4e4-acea224887f3",
   "metadata": {
    "ExecuteTime": {
     "end_time": "2023-07-07T20:48:00.546527100Z",
     "start_time": "2023-07-07T20:48:00.530868500Z"
    }
   },
   "outputs": [],
   "source": [
    "def network_to_pyg_data(file):\n",
    "    G = gen_graph(file)\n",
    "    pyg_graph = from_networkx(G, group_node_attrs=[\"pos\"], group_edge_attrs=[\"weight\"])\n",
    "    pyg_graph.y = pyg_graph[\"surfaceFeature\"]\n",
    "    del pyg_graph[\"surfaceFeature\"]\n",
    "    pyg_graph.y = pyg_graph.y.type(torch.LongTensor)\n",
    "\n",
    "    # Split the data\n",
    "    train_ratio = 0.2\n",
    "    num_nodes = pyg_graph.x.shape[0]\n",
    "    num_train = int(num_nodes * train_ratio)\n",
    "    idx = [i for i in range(num_nodes)]\n",
    "\n",
    "    np.random.shuffle(idx)\n",
    "    train_mask = torch.full_like(pyg_graph.y, False, dtype=bool)\n",
    "    train_mask[idx[:num_train]] = True\n",
    "    test_mask = torch.full_like(pyg_graph.y, False, dtype=bool)\n",
    "    test_mask[idx[num_train:]] = True\n",
    "\n",
    "    data = pyg_graph\n",
    "    data.train_mask = train_mask\n",
    "    data.test_mask = test_mask\n",
    "\n",
    "    return data"
   ]
  },
  {
   "cell_type": "code",
   "execution_count": 3,
   "id": "4ca02fff-8025-4655-9cc3-930bdf0a4a0e",
   "metadata": {
    "scrolled": true,
    "ExecuteTime": {
     "end_time": "2023-07-07T20:48:00.629865400Z",
     "start_time": "2023-07-07T20:48:00.546527100Z"
    }
   },
   "outputs": [
    {
     "name": "stdout",
     "output_type": "stream",
     "text": [
      "Loading graph 0...\n",
      "[Data(edge_index=[2, 3406], rot=[244, 3], size=[244], x=[244, 3], edge_attr=[3406, 1], y=[244], train_mask=[244], test_mask=[244])]\n",
      "Combining data...\n"
     ]
    }
   ],
   "source": [
    "if __name__ == \"__main__\":\n",
    "    data_batch = []\n",
    "    for i in range(NUM_MICROSTRUCTURES_START, NUM_MICROSTRUCTURES_END):\n",
    "        file = GEN_STRUCTURES_FILE_BASE + str(i) + \".csv\"\n",
    "        print(\"Loading graph \" + str(i) + \"...\")\n",
    "        data_batch.append(network_to_pyg_data(file))\n",
    "    \n",
    "    print(data_batch)\n",
    "    # loader to combine data\n",
    "    print(\"Combining data...\")\n",
    "    \n",
    "    loader = DataLoader(data_batch, batch_size=32)\n",
    "    data = next(iter(loader))\n",
    "    data"
   ]
  },
  {
   "cell_type": "code",
   "execution_count": 4,
   "id": "9b479f77-6276-45d6-93df-7b1b65a6eecf",
   "metadata": {
    "ExecuteTime": {
     "end_time": "2023-07-07T20:48:00.676704900Z",
     "start_time": "2023-07-07T20:48:00.629865400Z"
    }
   },
   "outputs": [],
   "source": [
    "torch.save(data, \"datasets/data_test.pt\")"
   ]
  },
  {
   "cell_type": "code",
   "execution_count": 5,
   "id": "3eb784fd-8859-4c3b-b8f5-4e47d1d31642",
   "metadata": {
    "ExecuteTime": {
     "end_time": "2023-07-07T20:48:00.676704900Z",
     "start_time": "2023-07-07T20:48:00.645494200Z"
    }
   },
   "outputs": [
    {
     "data": {
      "text/plain": "DataBatch(edge_index=[2, 3406], rot=[244, 3], size=[244], x=[244, 3], edge_attr=[3406, 1], y=[244], train_mask=[244], test_mask=[244], batch=[244], ptr=[2])"
     },
     "execution_count": 5,
     "metadata": {},
     "output_type": "execute_result"
    }
   ],
   "source": [
    "data"
   ]
  },
  {
   "cell_type": "code",
   "execution_count": null,
   "outputs": [],
   "source": [],
   "metadata": {
    "collapsed": false
   }
  }
 ],
 "metadata": {
  "kernelspec": {
   "display_name": "Python 3 (ipykernel)",
   "language": "python",
   "name": "python3"
  },
  "language_info": {
   "codemirror_mode": {
    "name": "ipython",
    "version": 3
   },
   "file_extension": ".py",
   "mimetype": "text/x-python",
   "name": "python",
   "nbconvert_exporter": "python",
   "pygments_lexer": "ipython3",
   "version": "3.10.12"
  }
 },
 "nbformat": 4,
 "nbformat_minor": 5
}
