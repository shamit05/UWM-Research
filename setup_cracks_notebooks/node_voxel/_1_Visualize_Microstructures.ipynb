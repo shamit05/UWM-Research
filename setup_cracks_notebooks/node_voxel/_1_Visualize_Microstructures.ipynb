{
 "cells": [
  {
   "cell_type": "markdown",
   "id": "d455f1b4-a35d-4012-818e-43d5ba509990",
   "metadata": {},
   "source": [
    "# 2. Visualize microstructures using NetworkX\n",
    "This file contains code for visualizing microstructures using NetworkX, a Python library for network analysis and visualization. The code generates a 3D network graph of grains in a microstructure and provides helper functions for data parsing and visualization.\n",
    "### 2.1 Setup instructions\n",
    "Ensure that Generate Microstructures was ran first and that FeatureData files exist under `/generated_microstructures/`"
   ]
  },
  {
   "cell_type": "code",
   "execution_count": 1,
   "id": "f0d8636c-f10b-4b0c-bb5e-8525e5ce9e52",
   "metadata": {
    "ExecuteTime": {
     "end_time": "2023-08-25T19:39:52.418617100Z",
     "start_time": "2023-08-25T19:39:51.109134200Z"
    }
   },
   "outputs": [
    {
     "data": {
      "text/plain": "('E:\\\\OneDrive\\\\UWM\\\\William_Musinski__Surana\\\\Research_Code\\\\Research\\\\setup_cracks_notebooks',\n 'E:\\\\OneDrive\\\\UWM\\\\William_Musinski__Surana\\\\Research_Code\\\\Research\\\\setup_cracks_notebooks\\\\stress_sim\\\\CellData_FakeMatl_0.csv')"
     },
     "execution_count": 1,
     "metadata": {},
     "output_type": "execute_result"
    }
   ],
   "source": [
    "import networkx as nx\n",
    "import csv\n",
    "import pathlib\n",
    "import os\n",
    "import numpy as np\n",
    "import pandas as pd\n",
    "\n",
    "import matplotlib.pyplot as plt\n",
    "from plotly.offline import iplot, plot\n",
    "import plotly.graph_objs as go\n",
    "import matplotlib as mpl\n",
    "import matplotlib.colors as mcolors\n",
    "\n",
    "DIR_LOC = os.path.dirname(os.getcwd()) # /Research Directory\n",
    "GEN_STRUCTURES_FILE = os.path.join(DIR_LOC, \"stress_sim\", \"CellData_FakeMatl_0.csv\")\n",
    "DIR_LOC, GEN_STRUCTURES_FILE"
   ]
  },
  {
   "cell_type": "markdown",
   "id": "003c0c1d-a171-4d40-af8c-ee51838524cb",
   "metadata": {},
   "source": [
    "### 2.2 Helper Functions\n",
    "This section provides helper functions used for parsing the FeatureData files and generating the network graph.\n",
    "\n",
    "`checkHeader(line)`\n",
    "This function checks if a given line from the FeatureData file is a header line.\n",
    "\n",
    "`float_or_int(string)`\n",
    "This function converts a string to either a float or an integer if possible. It is used for converting numerical values in the FeatureData file.\n",
    "\n",
    "`colorFader(c1, c2, a1=1, a2=0, mix=0)`\n",
    "This function generates a faded color between two given colors. It is used for color interpolation in the visualization."
   ]
  },
  {
   "cell_type": "code",
   "execution_count": 2,
   "id": "75931559-25f9-44f1-b029-bf64e10e8cb2",
   "metadata": {
    "ExecuteTime": {
     "end_time": "2023-08-25T19:39:52.430616300Z",
     "start_time": "2023-08-25T19:39:52.410596Z"
    }
   },
   "outputs": [],
   "source": [
    "maxWeight = 1\n",
    "\n",
    "# Function to convert colors to hex\n",
    "def convert_colors_to_hex(rgba_colors):\n",
    "    \"\"\"Convert a list of RGBA colors to hex format.\"\"\"\n",
    "    return [mcolors.to_hex(color) for color in rgba_colors]\n",
    "\n",
    "def float_or_int(string):\n",
    "    if string.isdigit():\n",
    "        return int(string)\n",
    "    elif string.replace('.','',1).isdigit() and string.count('.') < 2:\n",
    "        return float(string)\n",
    "    return string\n",
    "\n",
    "def calculate_von_mises(stresses):\n",
    "    \"\"\"Compute von Mises stress given the stress tensor components.\"\"\"\n",
    "    s11, s22, s33, s12, s13, s23 = stresses\n",
    "    return np.sqrt(0.5 * ((s11 - s22)**2 + (s22 - s33)**2 + (s11 - s33)**2 + 6*(s12**2 + s13**2 + s23**2)))\n",
    "\n",
    "def is_neighbor(centroid1, centroid2):\n",
    "    \"\"\"Check if two nodes are neighbors based on their centroids.\"\"\"\n",
    "    return np.all(np.abs(centroid1 - centroid2) == [2.5, 0, 0]) or \\\n",
    "           np.all(np.abs(centroid1 - centroid2) == [0, 2.5, 0]) or \\\n",
    "           np.all(np.abs(centroid1 - centroid2) == [0, 0, 2.5])"
   ]
  },
  {
   "cell_type": "markdown",
   "id": "bc1030cd-5871-47a7-b4e4-2b9c92107791",
   "metadata": {},
   "source": [
    "#### 2.3 Generates Cube for Scatter\n",
    "\n",
    "The add_cube_scatter function generates a cube scatter plot and adds it to a given Plotly figure.  \n",
    "It is used over traditional circle scatter to show rotation and size (which can be helpful in visualizing slip planes).\n",
    "\n",
    "Steps:\n",
    "1. Define the vertices of the cube.\n",
    "2. Apply rotation transformations to the vertices.\n",
    "3. Apply translation to the rotated vertices.\n",
    "4. Add a cube scatter plot to the figure with the translated vertices.\n",
    "5. Return the modified figure."
   ]
  },
  {
   "cell_type": "code",
   "execution_count": 3,
   "id": "10a5ae88-577a-46c8-aba9-5d282abb60ba",
   "metadata": {
    "ExecuteTime": {
     "end_time": "2023-08-25T19:39:52.438592100Z",
     "start_time": "2023-08-25T19:39:52.427594Z"
    }
   },
   "outputs": [],
   "source": [
    "def add_cube_scatter(fig, x=0, y=0, z=0, rot_x=0, rot_y=0, rot_z=0, size=2.5, color='black', alpha=0.7, featureID=''):\n",
    "    # Define the vertices of the cube\n",
    "    vertices = (np.array([\n",
    "        [0, 0, 0],\n",
    "        [0, 1, 0],\n",
    "        [1, 1, 0],\n",
    "        [1, 0, 0],\n",
    "        [0, 0, 1],\n",
    "        [0, 1, 1],\n",
    "        [1, 1, 1],\n",
    "        [1, 0, 1]\n",
    "    ]) * size) - (size/2)\n",
    "\n",
    "    # Apply rotation transformations\n",
    "    rotation_matrix = np.array([\n",
    "        [np.cos(rot_z)*np.cos(rot_y), np.cos(rot_z)*np.sin(rot_y)*np.sin(rot_x) - np.sin(rot_z)*np.cos(rot_x),\n",
    "         np.cos(rot_z)*np.sin(rot_y)*np.cos(rot_x) + np.sin(rot_z)*np.sin(rot_x)],\n",
    "        [np.sin(rot_z)*np.cos(rot_y), np.sin(rot_z)*np.sin(rot_y)*np.sin(rot_x) + np.cos(rot_z)*np.cos(rot_x),\n",
    "         np.sin(rot_z)*np.sin(rot_y)*np.cos(rot_x) - np.cos(rot_z)*np.sin(rot_x)],\n",
    "        [-np.sin(rot_y), np.cos(rot_y)*np.sin(rot_x), np.cos(rot_y)*np.cos(rot_x)]\n",
    "    ])\n",
    "\n",
    "    rotated_vertices = np.dot(vertices, rotation_matrix.T)\n",
    "\n",
    "    # Apply translation\n",
    "    translated_vertices = rotated_vertices + (np.array([x, y, z]))\n",
    "\n",
    "    fig.add_trace(\n",
    "        go.Mesh3d(\n",
    "            # Update the vertices with the rotated and translated coordinates\n",
    "            x=translated_vertices[:, 0],\n",
    "            y=translated_vertices[:, 1],\n",
    "            z=translated_vertices[:, 2],\n",
    "            i=[7, 0, 0, 0, 4, 4, 6, 6, 4, 0, 3, 2],\n",
    "            j=[3, 4, 1, 2, 5, 6, 5, 2, 0, 1, 6, 3],\n",
    "            k=[0, 7, 2, 3, 6, 7, 1, 1, 5, 5, 7, 6],\n",
    "            showlegend=True,\n",
    "            legendgroup=\"Grains\",\n",
    "            hovertemplate=f\"\"\"\n",
    "                x: {x},\\n\n",
    "                y: {y},\\n\n",
    "                z: {z}\n",
    "            \"\"\",\n",
    "            color= str(color),\n",
    "            opacity=alpha,\n",
    "            name='featureID ' + str(featureID)\n",
    "        )\n",
    "    )\n",
    "\n",
    "    return fig"
   ]
  },
  {
   "cell_type": "markdown",
   "id": "6a25807d",
   "metadata": {
    "collapsed": false
   },
   "source": [
    "#### 2.4 Generates Network Graph Visualization\n",
    "This section provides the network_plot_3D and gen_graph functions for generating the 3D network graph visualization.\n",
    "\n",
    "`network_plot_3D(G, angle, save=False)`\n",
    "This function generates a 3D network graph visualization using the NetworkX graph G. The graph represents the grains in the microstructure as nodes connected by weighted edges. The visualization includes scatter plots for each grain and lines for the connections between grains. The angle parameter allows for rotating the visualization. If save is set to True, the visualization can be saved as a file.\n",
    "\n",
    "`gen_graph(input_file)`\n",
    "This function reads the FeatureData file (input_file) and generates a NetworkX graph representing the microstructure. It parses the data from the file, constructs the adjacency list, and adds nodes and edges to the graph."
   ]
  },
  {
   "cell_type": "code",
   "execution_count": 65,
   "id": "209fa033-b0c0-4171-9e77-229d12c80ec6",
   "metadata": {
    "ExecuteTime": {
     "end_time": "2023-08-25T21:03:24.600502900Z",
     "start_time": "2023-08-25T21:03:24.590504400Z"
    }
   },
   "outputs": [],
   "source": [
    "def network_plot_3D(G, colors):\n",
    "\n",
    "    # Get node positions\n",
    "    pos = nx.get_node_attributes(G, 'centroid')\n",
    "    rot = nx.get_node_attributes(G, 'eulerangles')\n",
    "    featureid = nx.get_node_attributes(G, 'featureid')\n",
    "    # Get number of nodes\n",
    "    n = list(G.nodes())\n",
    "    # Define color range proportional to grain ID\n",
    "    alphas = {}\n",
    "    for i in n:\n",
    "        alphas[i] = 0.2\n",
    "\n",
    "    axis = dict(showbackground=False, showline=False, zeroline=False, showgrid=False, showticklabels=False, title='')\n",
    "\n",
    "    layout = go.Layout(\n",
    "        title=\"Network of grains in microstructure (3D visualization)\",\n",
    "        template='plotly_white',\n",
    "        scene=dict(\n",
    "                 aspectmode='data'\n",
    "         )\n",
    "    )\n",
    "\n",
    "    fig = go.Figure(layout=layout)\n",
    "\n",
    "    # Loop on the pos dictionary to extract the x,y,z coordinates of each node\n",
    "    for i in n:\n",
    "        key, value = list(pos.items())[i]\n",
    "        xi = value[0]\n",
    "        yi = value[1]\n",
    "        zi = value[2]\n",
    "        rx = rot[key][0]\n",
    "        ry = rot[key][1]\n",
    "        rz = rot[key][2]\n",
    "        feature = featureid[key]\n",
    "\n",
    "        # Scatter plot\n",
    "        # fig.add_trace(go.Scatter3d(\n",
    "        #     x=[xi],\n",
    "        #     y=[yi],\n",
    "        #     z=[zi],\n",
    "        #     mode ='markers',\n",
    "        #     marker = dict(\n",
    "        #         symbol='circle',\n",
    "        #         size=size[key]/2000,\n",
    "        #         color=colors[key],\n",
    "        #         opacity=0.7\n",
    "        #     ),\n",
    "        #     name='featureID ' + key\n",
    "        # ))\n",
    "        # Plot mesh cube in scatter plot\n",
    "        if xi < 0.1:\n",
    "            continue\n",
    "        fig = add_cube_scatter(fig, x=xi, y=yi, z=zi, rot_x=rx, rot_y=ry, rot_z=rz, size=1, color=colors[key], alpha=alphas[key], featureID=feature)\n",
    "        print(\"plotting node\", key, end=\"\\r\")\n",
    "        if i > 100:\n",
    "            break\n",
    "\n",
    "    # Loop on the list of edges to get the x,y,z, coordinates of the connected nodes\n",
    "    # Those two points are the extrema of the line to be plotted\n",
    "    # for j in G.edges.data(\"diffNeighbour\", default=0):\n",
    "    #     x = np.array((pos[j[0]][0], pos[j[1]][0]))\n",
    "    #     y = np.array((pos[j[0]][1], pos[j[1]][1]))\n",
    "    #     z = np.array((pos[j[0]][2], pos[j[1]][2]))\n",
    "    #\n",
    "    #     fig.add_trace(go.Scatter3d(\n",
    "    #         x=x,\n",
    "    #         y=y,\n",
    "    #         z=z,\n",
    "    #         mode='lines',\n",
    "    #         line=dict(color='red' if j[2] else 'black'),\n",
    "    #         hoverinfo='none',\n",
    "    #         opacity=0.2,\n",
    "    #         name='edge from ' + str(j[0]) + ' to ' + str(j[1]),\n",
    "    #         legendgroup=\"Edges\"\n",
    "    #     ))\n",
    "\n",
    "    return fig"
   ]
  },
  {
   "cell_type": "code",
   "execution_count": 62,
   "id": "3dac8a6f-9452-41fe-ba9a-9d465c9f08ce",
   "metadata": {
    "ExecuteTime": {
     "end_time": "2023-08-25T20:45:22.277286300Z",
     "start_time": "2023-08-25T20:45:22.260286500Z"
    }
   },
   "outputs": [],
   "source": [
    "def gen_graph(input_file):\n",
    "\n",
    "    # Load the data\n",
    "    df = pd.read_csv(input_file)\n",
    "\n",
    "    # Create a graph from the dataframe\n",
    "    G = nx.Graph()\n",
    "\n",
    "    # Add nodes to the graph\n",
    "    for index, row in df.iterrows():\n",
    "        G.add_node(index, centroid=row[['X', 'Y', 'Z']].values,\n",
    "                   stress=row[[' S11', ' S22', ' S33', ' S12', ' S13', ' S23']].values,\n",
    "                   strain=row[[' E11', ' E22', ' E33', ' E12', ' E13', ' E23']].values,\n",
    "                   boundarycell=row['BoundaryCells'],\n",
    "                   eulerangles=row[['EulerAngles_0', 'EulerAngles_1', 'EulerAngles_2']].values,\n",
    "                   featureid=row['FeatureIds'])\n",
    "        print(\"Adding node\", index, end=\"\\r\")\n",
    "\n",
    "    # Use hashmap for efficient lookups\n",
    "    centroid_to_node = {tuple(data['centroid']): node for node, data in G.nodes(data=True)}\n",
    "\n",
    "    # Define possible neighbor offsets for a voxel\n",
    "    offsets = [(2.5, 0, 0), (-2.5, 0, 0),\n",
    "               (0, 2.5, 0), (0, -2.5, 0),\n",
    "               (0, 0, 2.5), (0, 0, -2.5)]\n",
    "\n",
    "    # Add edges to the graph based on the hashmap\n",
    "    i = 0\n",
    "    for node, data in G.nodes(data=True):\n",
    "        for offset in offsets:\n",
    "            neighbor_centroid = tuple(data['centroid'] + np.array(offset))\n",
    "            if neighbor_centroid in centroid_to_node:\n",
    "                neighbor_node = centroid_to_node[neighbor_centroid]\n",
    "                if node < neighbor_node:  # Ensure unique edges\n",
    "                    diffNeighbour = 0 if data['featureid'] == G.nodes[neighbor_node]['featureid'] else 1\n",
    "                    G.add_edge(node, neighbor_node, diffNeighbour=diffNeighbour)\n",
    "                    print(\"Adding edge\", i, end=\"\\r\")\n",
    "                    i+=1\n",
    "\n",
    "    # Calculate von Mises stresses\n",
    "    von_mises_stresses = [calculate_von_mises(data['stress']) for _, data in G.nodes(data=True)]\n",
    "\n",
    "    # Map the von Mises stresses to colors\n",
    "    cmap = plt.cm.jet\n",
    "    norm = plt.Normalize(vmin=min(von_mises_stresses), vmax=max(von_mises_stresses))\n",
    "    colors = [cmap(norm(stress)) for stress in von_mises_stresses]\n",
    "    print(G)\n",
    "\n",
    "    return G, convert_colors_to_hex(colors)"
   ]
  },
  {
   "cell_type": "markdown",
   "id": "e276b405",
   "metadata": {
    "collapsed": false
   },
   "source": [
    "### 2.5 Usage Example\n",
    "To use this code, ensure that the necessary microstructure data files exist and specify the path to the FeatureData file (GEN_STRUCTURES_FILE). Then, call the gen_graph function to generate the NetworkX graph and pass it to the network_plot_3D function to visualize the microstructure. The resulting visualization will be displayed inline using Plotly."
   ]
  },
  {
   "cell_type": "code",
   "execution_count": 63,
   "id": "2361aa08-c592-4d66-94a1-b5adfc4895a6",
   "metadata": {
    "ExecuteTime": {
     "end_time": "2023-08-25T20:45:56.892329600Z",
     "start_time": "2023-08-25T20:45:23.047618700Z"
    }
   },
   "outputs": [
    {
     "name": "stdout",
     "output_type": "stream",
     "text": [
      "Adding edge 70373\r51602Graph with 24389 nodes and 70374 edges\n"
     ]
    }
   ],
   "source": [
    "%matplotlib inline\n",
    "nx_graph, colors = gen_graph(GEN_STRUCTURES_FILE)"
   ]
  },
  {
   "cell_type": "code",
   "execution_count": 66,
   "outputs": [
    {
     "name": "stdout",
     "output_type": "stream",
     "text": [
      "plotting node 101\r"
     ]
    },
    {
     "data": {
      "text/plain": "'temp-plot.html'"
     },
     "execution_count": 66,
     "metadata": {},
     "output_type": "execute_result"
    }
   ],
   "source": [
    "plot(network_plot_3D(nx_graph, colors))"
   ],
   "metadata": {
    "collapsed": false,
    "ExecuteTime": {
     "end_time": "2023-08-25T21:03:28.678989700Z",
     "start_time": "2023-08-25T21:03:28.097918600Z"
    }
   }
  },
  {
   "cell_type": "code",
   "execution_count": null,
   "outputs": [],
   "source": [],
   "metadata": {
    "collapsed": false
   }
  }
 ],
 "metadata": {
  "kernelspec": {
   "display_name": "Python 3 (ipykernel)",
   "language": "python",
   "name": "python3"
  },
  "language_info": {
   "codemirror_mode": {
    "name": "ipython",
    "version": 3
   },
   "file_extension": ".py",
   "mimetype": "text/x-python",
   "name": "python",
   "nbconvert_exporter": "python",
   "pygments_lexer": "ipython3",
   "version": "3.10.12"
  }
 },
 "nbformat": 4,
 "nbformat_minor": 5
}
